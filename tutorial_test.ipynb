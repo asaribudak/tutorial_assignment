{
 "cells": [
  {
   "cell_type": "code",
   "execution_count": 26,
   "metadata": {
    "collapsed": false
   },
   "outputs": [
    {
     "data": {
      "text/plain": [
       "274"
      ]
     },
     "execution_count": 26,
     "metadata": {},
     "output_type": "execute_result"
    }
   ],
   "source": [
    "Html_file= open(\"tutorial_file\",\"w\")\n",
    "html_frmt = \"\"\"\n",
    "<style type=\"text/css\">\n",
    "    html, body {\n",
    "        margin: 0;\n",
    "        border: 0;\n",
    "        width: 80%;\n",
    "    }\n",
    "\n",
    "    body {\n",
    "        padding: 50px 100px 50px 80px;\n",
    "    }\n",
    "\n",
    "    #main {\n",
    "        margin: 0 auto; /* in case you want to set a fixed width on this as well */\n",
    "    }\n",
    "</style>\"\"\"\n",
    "Html_file.write(html_frmt)"
   ]
  },
  {
   "cell_type": "code",
   "execution_count": 27,
   "metadata": {
    "collapsed": false
   },
   "outputs": [
    {
     "data": {
      "text/plain": [
       "91"
      ]
     },
     "execution_count": 27,
     "metadata": {},
     "output_type": "execute_result"
    }
   ],
   "source": [
    "intro_title = \"\"\"<html>\n",
    "<head></head>\n",
    "<font size=\"6\">\n",
    "<body><p><b>Introduction<b></p></body>\n",
    "</font>\n",
    "</html>\"\"\"\n",
    "Html_file.write(intro_title)"
   ]
  },
  {
   "cell_type": "code",
   "execution_count": 28,
   "metadata": {
    "collapsed": false
   },
   "outputs": [
    {
     "data": {
      "text/plain": [
       "2963"
      ]
     },
     "execution_count": 28,
     "metadata": {},
     "output_type": "execute_result"
    }
   ],
   "source": [
    "intro = \"\"\"<html>\n",
    "<head></head>\n",
    "<body><p>This tutorial presents the features of <em>plotly</em> data visualization tool using methods of <em>matplotlib</em>  \n",
    " 2D plotting library and python packages such as <em>numpy</em> and <em>panda</em>. The figures are plotted \n",
    " for the dataset from breast cancer patients provided in UC Irvine Machine Learning Repository:\n",
    "<a href=\"http://archive.ics.uci.edu/ml/index.html\">http://archive.ics.uci.edu/ml/index.html</a> </p>\n",
    "<p> This breast cancer database was build in 1992 using tumor samples from University of Wisconsin\n",
    "   Hospitals, Madison. Tumor samples were donated from 699 breast cancer patients at different time periods.\n",
    "   The attributes and corresponding values provided in the database can be listed for a number of patients as follows:</p>\n",
    "</body>\n",
    "</html>\"\"\"\n",
    "Html_file.write(intro)\n",
    "\n",
    "html_str = \"\"\"\n",
    "<table border=1>\n",
    "     <tr>\n",
    "       <th><center>Sample code<br/> number<center/></th>\n",
    "       <td><center><br>Clump<br/> Thickness<center/></td>\n",
    "       <td><center><br>Uniformity of <br/> Cell Size<center/></td>\n",
    "       <td><center><br>Uniformity of <br/> Cell Shape<center/></td>\n",
    "       <td><center><br>Marginal <br/> Adhesion<center/></td>\n",
    "       <td><center><br>Single Epithelial <br/> Cell Size<center/></td>\n",
    "       <td><center><br>Bare <br/> Nuclei<center/></td>\n",
    "       <td><center><br>Bland <br/> Chromatin<center/></td>\n",
    "       <td><center><br>Normal <br/> Nucleoli<center/></td>\n",
    "       <td><center>Mitoses<center/></td>\n",
    "       <td><center>Class<center/></td>\n",
    "     </tr>\n",
    "     <indent>\n",
    "       <tr>\n",
    "         <td><center>1000025</center></td>\n",
    "         <td><center>5</center></td>\n",
    "         <td><center>1</center></td>\n",
    "         <td><center>1</center></td>\n",
    "         <td><center>1</center></td>\n",
    "         <td><center>2</center></td>\n",
    "         <td><center>1</center></td>\n",
    "         <td><center>3</center></td>\n",
    "         <td><center>1</center></td>\n",
    "         <td><center>1</center></td>\n",
    "         <td><center>2</center></td>\n",
    "       </tr>\n",
    "     </indent>\n",
    "       <tr>\n",
    "         <td><center>1002945</center></td>\n",
    "         <td><center>5</center></td>\n",
    "         <td><center>4</center></td>\n",
    "         <td><center>4</center></td>\n",
    "         <td><center>5</center></td>\n",
    "         <td><center>7</center></td>\n",
    "         <td><center>10</center></td>\n",
    "         <td><center>3</center></td>\n",
    "         <td><center>2</center></td>\n",
    "         <td><center>1</center></td>\n",
    "         <td><center>2</center></td>\n",
    "       </tr>\n",
    "     </indent>\n",
    "       <tr>\n",
    "         <td><center>1015425</center></td>\n",
    "         <td><center>3</center></td>\n",
    "         <td><center>1</center></td>\n",
    "         <td><center>1</center></td>\n",
    "         <td><center>1</center></td>\n",
    "         <td><center>2</center></td>\n",
    "         <td><center>2</center></td>\n",
    "         <td><center>3</center></td>\n",
    "         <td><center>1</center></td>\n",
    "         <td><center>1</center></td>\n",
    "         <td><center>2</center></td>\n",
    "       </tr>\n",
    "     </indent>\n",
    "       <tr>\n",
    "         <td><center>1016277</center></td>\n",
    "         <td><center>6</center></td>\n",
    "         <td><center>8</center></td>\n",
    "         <td><center>8</center></td>\n",
    "         <td><center>1</center></td>\n",
    "         <td><center>3</center></td>\n",
    "         <td><center>4</center></td>\n",
    "         <td><center>3</center></td>\n",
    "         <td><center>7</center></td>\n",
    "         <td><center>1</center></td>\n",
    "         <td><center>2</center></td>\n",
    "       </tr>\n",
    "     </indent>\n",
    "       <tr>\n",
    "         <td><center>1017023</center></td>\n",
    "         <td><center>4</center></td>\n",
    "         <td><center>1</center></td>\n",
    "         <td><center>1</center></td>\n",
    "         <td><center>3</center></td>\n",
    "         <td><center>2</center></td>\n",
    "         <td><center>1</center></td>\n",
    "         <td><center>3</center></td>\n",
    "         <td><center>1</center></td>\n",
    "         <td><center>1</center></td>\n",
    "         <td><center>2</center></td>\n",
    "       </tr>\n",
    "     </indent>\n",
    "</table>\n",
    "\"\"\"\n",
    "Html_file.write(html_str)"
   ]
  },
  {
   "cell_type": "code",
   "execution_count": 29,
   "metadata": {
    "collapsed": false
   },
   "outputs": [
    {
     "data": {
      "text/plain": [
       "427"
      ]
     },
     "execution_count": 29,
     "metadata": {},
     "output_type": "execute_result"
    }
   ],
   "source": [
    "features_title = \"\"\"<html>\n",
    "<head></head>\n",
    "<font size=\"6\">\n",
    "<body><p><b>Features<b></p></body>\n",
    "</font>\n",
    "</html>\"\"\"\n",
    "Html_file.write(features_title)\n",
    "\n",
    "histExpl = \"\"\"<html>\n",
    "<head></head>\n",
    "<body><p> \n",
    "    <br>The distribution characteristic for some of the attributes is illustrated using hist method of <em>matplotlib</em> \n",
    "    library is used as follows:</br>\n",
    "   <br> import matplotlib\n",
    "   <br> import matplotlib.pyplot as plt\n",
    "   <br> plt.hist(clmThck, bins = 10, range=[ 0, 10 ], color='green') \n",
    "   <br> plt.hist(cellSize, bins = 10, range=[ 0, 10 ], color='blue') </br>\n",
    "   </p>\n",
    "</body>\n",
    "</html>\"\"\"\n",
    "Html_file.write(histExpl)"
   ]
  },
  {
   "cell_type": "code",
   "execution_count": 30,
   "metadata": {
    "collapsed": false
   },
   "outputs": [
    {
     "ename": "ImportError",
     "evalue": "No module named 'plotly'",
     "output_type": "error",
     "traceback": [
      "\u001b[1;31m---------------------------------------------------------------------------\u001b[0m",
      "\u001b[1;31mImportError\u001b[0m                               Traceback (most recent call last)",
      "\u001b[1;32m<ipython-input-30-7fc135bfe8e6>\u001b[0m in \u001b[0;36m<module>\u001b[1;34m()\u001b[0m\n\u001b[0;32m      3\u001b[0m \u001b[0mplt\u001b[0m\u001b[1;33m.\u001b[0m\u001b[0mclose\u001b[0m\u001b[1;33m(\u001b[0m\u001b[1;34m\"all\"\u001b[0m\u001b[1;33m)\u001b[0m\u001b[1;33m\u001b[0m\u001b[0m\n\u001b[0;32m      4\u001b[0m \u001b[1;33m\u001b[0m\u001b[0m\n\u001b[1;32m----> 5\u001b[1;33m \u001b[1;32mimport\u001b[0m \u001b[0mplotly\u001b[0m \u001b[1;32mas\u001b[0m \u001b[0mpy\u001b[0m\u001b[1;33m\u001b[0m\u001b[0m\n\u001b[0m\u001b[0;32m      6\u001b[0m \u001b[1;32mfrom\u001b[0m \u001b[0mplotly\u001b[0m\u001b[1;33m.\u001b[0m\u001b[0mgraph_objs\u001b[0m \u001b[1;32mimport\u001b[0m \u001b[1;33m*\u001b[0m\u001b[1;33m\u001b[0m\u001b[0m\n\u001b[0;32m      7\u001b[0m \u001b[1;32mimport\u001b[0m \u001b[0mplotly\u001b[0m\u001b[1;33m.\u001b[0m\u001b[0mtools\u001b[0m \u001b[1;32mas\u001b[0m \u001b[0mtls\u001b[0m\u001b[1;33m\u001b[0m\u001b[0m\n",
      "\u001b[1;31mImportError\u001b[0m: No module named 'plotly'"
     ]
    }
   ],
   "source": [
    "import matplotlib\n",
    "import matplotlib.pyplot as plt\n",
    "plt.close(\"all\")\n",
    "\n",
    "import plotly as py\n",
    "from plotly.graph_objs import *\n",
    "import plotly.tools as tls\n",
    "\n",
    "import pandas as pd\n",
    "import numpy as np\n",
    "\n",
    "from datetime import datetime\n",
    "from datetime import time as dt_tm\n",
    "from datetime import date as dt_date\n",
    "\n",
    "import os\n",
    "import tempfile\n",
    "os.environ['MPLCONFIGDIR'] = tempfile.mkdtemp()\n",
    "\n",
    "from scipy.stats import gaussian_kde\n",
    "\n",
    "from IPython.display import HTML"
   ]
  },
  {
   "cell_type": "code",
   "execution_count": 31,
   "metadata": {
    "collapsed": false
   },
   "outputs": [],
   "source": [
    "#import pylab\n",
    "#fig = pylab.figure()\n",
    "\n",
    "dataFile = open('breast_cancer_wisconsin.txt', 'r')\n",
    "\n",
    "lines = dataFile.read().splitlines()\n",
    "array = []\n",
    "lineArray = []\n",
    "for line in lines:\n",
    "    lineArray = line.split(',')\n",
    "    #print(lineArray[1:11])\n",
    "    array.append(lineArray)\n",
    "    pass\n",
    "\n",
    "lineArray1 = [int(i) for i in array[1][1:8]]\n",
    "#print(lineArray1)\n",
    "lineArray2 = [int(i) for i in array[2][1:8]]\n",
    "lineArray3 = [int(i) for i in array[3][1:8]]\n",
    "\n",
    "clmThck = []\n",
    "cellSize = []\n",
    "cellShape = []\n",
    "margAdh = []\n",
    "epitCellSize = []\n",
    "bareNuclei = []\n",
    "blandChr = []\n",
    "normNucleoli = []\n",
    "mitosis = []\n",
    "index = 0\n",
    "while index < len(array):\n",
    "    clmThck.append(array[index][1])\n",
    "    cellSize.append(array[index][2])\n",
    "    cellShape.append(array[index][3])\n",
    "    margAdh.append(array[index][4])\n",
    "    epitCellSize.append(array[index][5])\n",
    "    bareNuclei.append(array[index][6])\n",
    "    blandChr.append(array[index][7])\n",
    "    normNucleoli.append(array[index][8])\n",
    "    mitosis.append(array[index][9])\n",
    "    index += 1\n",
    "    pass\n",
    "\n",
    "\n",
    "clmThck = [int(i) for i in clmThck]\n",
    "cellShape = [int(i) for i in cellShape]\n",
    "cellSize = [int(i) for i in cellSize]\n",
    "margAdh = [int(i) for i in margAdh]\n",
    "epitCellSize = [int(i) for i in epitCellSize]\n",
    "bareNuclei = [int(i) for i in bareNuclei]\n",
    "blandChr = [int(i) for i in blandChr]\n",
    "normNucleoli = [int(i) for i in normNucleoli]\n",
    "mitosis = [int(i) for i in mitosis]\n",
    "\n",
    "\n",
    "#colors = ['b', 'g', 'r', 'c', 'm', 'y', 'k']\n",
    "#df = pd.DataFrame({\"A\": lineArray1,\n",
    "#                        \"B\": lineArray2,\n",
    "#                        \"C\": lineArray3,\n",
    "#                       \"Name\": colors})\n",
    "#print(df)\n",
    "\n",
    "\n",
    "data = [clmThck, cellShape, cellSize, margAdh, epitCellSize, bareNuclei, blandChr, normNucleoli, blandChr, normNucleoli, mitosis]\n",
    "#print(data)\n",
    "plt.figure()\n",
    "plt.hist(clmThck, bins = 10, range=[ 0, 10 ], color='green')\n",
    "plt.title(\"Clump Thickness Histogram\")\n",
    "plt.xlabel(\"Value\")\n",
    "plt.ylabel(\"Frequency\")\n",
    "#fig.add_subplot(2,1,1)\n",
    "plt.savefig('clmThck.png')\n",
    "\n",
    "#plt.show()\n",
    "plt.figure()\n",
    "cellSize = [int(i) for i in cellSize]\n",
    "plt.hist(cellSize, bins = 10, range=[ 0, 10 ], color='blue')\n",
    "plt.title(\"Cell Size Histogram\")\n",
    "plt.xlabel(\"Value\")\n",
    "plt.ylabel(\"Frequency\")\n",
    "#fig_2 = fig.add_subplot(2,2,1)\n",
    "plt.savefig('cellSize.png')\n",
    "\n",
    "#pylab.show()\n"
   ]
  },
  {
   "cell_type": "code",
   "execution_count": 32,
   "metadata": {
    "collapsed": false
   },
   "outputs": [
    {
     "data": {
      "text/plain": [
       "113"
      ]
     },
     "execution_count": 32,
     "metadata": {},
     "output_type": "execute_result"
    }
   ],
   "source": [
    "imageHist = \"\"\"<html><body>\n",
    "<img src=\"clmThck.png\" width=\"400\"></img>\n",
    "<img src=\"cellSize.png\" width=\"400\"></img>\n",
    "</body></html>\n",
    "\"\"\"\n",
    "\n",
    "Html_file.write(imageHist)"
   ]
  },
  {
   "cell_type": "code",
   "execution_count": 33,
   "metadata": {
    "collapsed": false
   },
   "outputs": [
    {
     "data": {
      "text/plain": [
       "337"
      ]
     },
     "execution_count": 33,
     "metadata": {},
     "output_type": "execute_result"
    }
   ],
   "source": [
    "scatterExpl = \"\"\"<html>\n",
    "<head></head>\n",
    "<body><p> \n",
    "    <br>The scatterplot is generated for some of the selected attributes to examine the correlation among features using \n",
    "    scatter method of <em>matplotlib</em> library:</br>\n",
    "   <br> plt.scatter(cellSize, cellShape, s=10)\n",
    "   <br> plt.scatter(bareNuclei, normNucleoli, s=10)</br>\n",
    "   </p>\n",
    "</body>\n",
    "</html>\"\"\"\n",
    "Html_file.write(scatterExpl)"
   ]
  },
  {
   "cell_type": "code",
   "execution_count": 34,
   "metadata": {
    "collapsed": false
   },
   "outputs": [
    {
     "data": {
      "text/plain": [
       "123"
      ]
     },
     "execution_count": 34,
     "metadata": {},
     "output_type": "execute_result"
    }
   ],
   "source": [
    "plt.figure()\n",
    "plt.scatter(cellSize, cellShape, s=10)\n",
    "plt.title(\"Scatterplot of Cell Size and Cell Shape\")\n",
    "plt.xlabel(\"Cell Size\")\n",
    "plt.ylabel(\"Cell Shape\")\n",
    "#fig_2 = fig.add_subplot(2,2,1)\n",
    "plt.savefig('sctrSizeShape.png')\n",
    "#plt.show()\n",
    "\n",
    "plt.figure()\n",
    "bareNuclei = [int(i) for i in bareNuclei]\n",
    "normNucleoli = [int(i) for i in normNucleoli]\n",
    "plt.scatter(bareNuclei, normNucleoli, s=10)\n",
    "plt.title(\"Scatterplot of Bare Nuclei and Norm Nucleoli\")\n",
    "plt.xlabel(\"Bare Nuclei\")\n",
    "plt.ylabel(\"Norm Nucleoli\")\n",
    "plt.savefig('sctrBareNorm.png')\n",
    "\n",
    "imageSctr = \"\"\"<html><body>\n",
    "<img src=\"sctrSizeShape.png\" width=\"400\"></img>\n",
    "<img src=\"sctrBareNorm.png\" width=\"400\"></img>\n",
    "</body></html>\n",
    "\"\"\"\n",
    "\n",
    "Html_file.write(imageSctr)"
   ]
  },
  {
   "cell_type": "code",
   "execution_count": 35,
   "metadata": {
    "collapsed": false
   },
   "outputs": [
    {
     "data": {
      "text/plain": [
       "319"
      ]
     },
     "execution_count": 35,
     "metadata": {},
     "output_type": "execute_result"
    }
   ],
   "source": [
    "boxplotExpl = \"\"\"<html>\n",
    "<head></head>\n",
    "<body><p> \n",
    "    <br>The boxplot is generated for all attributes where the attribute IDs on the x-axis are in the same order with the list \n",
    "    given in attribute table. Here, \n",
    "    boxplot method of <em>matplotlib</em> library is used as:</br>\n",
    "   <br> plt.boxplot(data,1)</br>\n",
    "   </p>\n",
    "</body>\n",
    "</html>\"\"\"\n",
    "Html_file.write(boxplotExpl)"
   ]
  },
  {
   "cell_type": "code",
   "execution_count": 36,
   "metadata": {
    "collapsed": false
   },
   "outputs": [
    {
     "data": {
      "text/plain": [
       "70"
      ]
     },
     "execution_count": 36,
     "metadata": {},
     "output_type": "execute_result"
    }
   ],
   "source": [
    "plt.figure()\n",
    "plt.boxplot(data,1)\n",
    "plt.title(\"Boxplot for all attributes\")\n",
    "plt.xlabel(\"Attribute ID\")\n",
    "plt.ylabel(\"Value\")\n",
    "#fig_2 = fig.add_subplot(2,2,1)\n",
    "plt.savefig('boxplot.png')\n",
    "#plt.show()\n",
    "\n",
    "imageBoxplot = \"\"\"<html><body>\n",
    "<img src=\"boxplot.png\" width=\"400\"></img>\n",
    "</body></html>\n",
    "\"\"\"\n",
    "\n",
    "Html_file.write(imageBoxplot)"
   ]
  },
  {
   "cell_type": "code",
   "execution_count": 37,
   "metadata": {
    "collapsed": false
   },
   "outputs": [],
   "source": [
    "#from pandas import read_csv\n",
    "#from pandas.tools.plotting import parallel_coordinates\n",
    "#from matplotlib import cm\n",
    "#dataAtt = pd.read_csv('C:/Users/aydin/Documents/courses/GC-Data Visualization/project/2016s_dataviz_subick_saribudak/attributes.csv')\n",
    "\n",
    "##colors = ['b', 'g', 'r', 'c', 'm', 'y', 'k']\n",
    "##df = pd.DataFrame({\"A\": dataAtt,\n",
    "##                        \"B\": lineArray2,\n",
    "##                        \"C\": lineArray3,\n",
    "##                       \"Name\": colors})\n",
    "\n",
    "#parallel_coordinates(dataAtt, 'Name', colormap='winter')\n",
    "\n",
    "#plt.figure()\n",
    "#plt.title(\"Parallel Coordinates for all attributes\")\n",
    "#plt.xlabel(\"Attribute ID\")\n",
    "#plt.ylabel(\"Value\")\n",
    "#plt.savefig('prlCrd.png')\n",
    "#plt.show()\n",
    "#imageBoxplot = \"\"\"<html><body>\n",
    "#<img src=\"prlCrd.png\" width=\"400\"></img>\n",
    "#</body></html>\n",
    "#\"\"\"\n",
    "\n",
    "#Html_file.write(imageBoxplot)"
   ]
  },
  {
   "cell_type": "code",
   "execution_count": 38,
   "metadata": {
    "collapsed": true
   },
   "outputs": [],
   "source": [
    "Html_file.close()"
   ]
  },
  {
   "cell_type": "code",
   "execution_count": 39,
   "metadata": {
    "collapsed": false
   },
   "outputs": [],
   "source": [
    "#iris = datasets.load_iris()\n",
    "#iris = load_iris()\n",
    "#print(iris)"
   ]
  },
  {
   "cell_type": "code",
   "execution_count": 40,
   "metadata": {
    "collapsed": true
   },
   "outputs": [],
   "source": [
    "#import matplotlib.pyplot as plt\n",
    "#import numpy as np;\n",
    "#import pandas as pd;\n",
    "\n",
    "##read raw gene matrix\n",
    "#inputGeneMatrix=pd.read_csv('geneValues.csv',skipinitialspace=True);\n",
    "#inputGeneMatrixValues=inputGeneMatrix.values\n",
    "#inputGeneMatrixValues=np.array(inputGeneMatrixValues);\n",
    "\n",
    "#genelist=pd.read_csv(\"gene_id_1row\");\n",
    "#genelist_list = pd.DataFrame(genelist).values[0];\n",
    "\n",
    "#patients=list(range(1,150));\n",
    "#y_labels=list(range(1,64));\n",
    "\n",
    "##fig, ax = plt.subplots();\n",
    "#plt.imshow(inputGeneMatrixValues, interpolation='none',aspect='auto')\n",
    "#plt.suptitle('Heatmap of Gene Expression Values');\n",
    "\n",
    "#plt.xticks(range(64),genelist_list,rotation=\"vertical\");\n",
    "#plt.xlabel('Genes');\n",
    "#plt.ylabel('Patients');\n",
    "\n",
    "#plt.colorbar();\n",
    "#plt.show();"
   ]
  },
  {
   "cell_type": "code",
   "execution_count": null,
   "metadata": {
    "collapsed": true
   },
   "outputs": [],
   "source": []
  },
  {
   "cell_type": "code",
   "execution_count": null,
   "metadata": {
    "collapsed": true
   },
   "outputs": [],
   "source": []
  }
 ],
 "metadata": {
  "kernelspec": {
   "display_name": "Python 3",
   "language": "python",
   "name": "python3"
  },
  "language_info": {
   "codemirror_mode": {
    "name": "ipython",
    "version": 3
   },
   "file_extension": ".py",
   "mimetype": "text/x-python",
   "name": "python",
   "nbconvert_exporter": "python",
   "pygments_lexer": "ipython3",
   "version": "3.5.1"
  }
 },
 "nbformat": 4,
 "nbformat_minor": 0
}
